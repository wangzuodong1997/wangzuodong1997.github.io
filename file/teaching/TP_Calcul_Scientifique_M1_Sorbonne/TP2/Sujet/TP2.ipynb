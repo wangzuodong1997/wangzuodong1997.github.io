{
 "cells": [
  {
   "cell_type": "markdown",
   "metadata": {},
   "source": [
    "# The Euler method and how it can be refined\n",
    "\n",
    "#### Second practical work, Monday,  September 26, 2022\n",
    "In this second practical work, we introduce the *Euler method*. It is the most famous and simple numerical procedure for solving ordinary differential equations. We compare it to another numerical scheme, the so-called *midpoint method*, a little bit more tricky to implement but usually way more efficient. First, run the following cells to import the librairies used in this Notebook."
   ]
  },
  {
   "cell_type": "code",
   "execution_count": null,
   "metadata": {},
   "outputs": [],
   "source": [
    "import numpy as np\n",
    "import matplotlib.pyplot as plt"
   ]
  },
  {
   "cell_type": "markdown",
   "metadata": {},
   "source": [
    "### Exercise: computing the exponential function\n",
    "\n",
    "We wish to numerically solve the following ordinary differential equation (ode), \n",
    "\n",
    "$$\\frac{\\mathrm{d} y}{\\mathrm{d}t} = y(t),~~~~~~~y(0)=1,$$\n",
    "\n",
    "for t ∈ [0, t<sub>max</sub>] with t<sub>max</sub>=10. In that case, we conveniently know the exact solution of this problem, y(t)=e<sup>t</sup>. To proceed, this ode is discretized in time with a timestep ∆t. In other words, we shall numerically compute the values y<sub>n</sub> of y(t) only at some specific values of t, denoted by t<sub>n</sub> = n ∆t. We compare two ways of computing the y<sub>n</sub>.\n",
    "\n",
    "**The Euler method**. Starting with\n",
    "\n",
    "$$\\frac{\\mathrm{d} y}{\\mathrm{d}t}(t) \\simeq \\frac{y(t+\\Delta t) - y(t)}{\\Delta t} = \\frac{y_{n+1}-y_n}{\\Delta t}, $$\n",
    "\n",
    "we get\n",
    "\n",
    "$$ \\frac{y_{n+1}-y_n}{\\Delta t} \\simeq y_n \\Longrightarrow \\boxed{y_{n+1} \\simeq y_n (1+\\Delta t)}$$\n",
    "\n",
    "**The explicit midpoint method**. With the more accurate estimate\n",
    "\n",
    "$$\\frac{\\mathrm{d} y}{\\mathrm{d}t}\\left( t + \\frac{\\Delta t}{2}\\right) \\simeq \\frac{y(t+\\Delta t) - y(t)}{\\Delta t} = \\frac{y_{n+1}-y_n}{\\Delta t}, $$\n",
    "\n",
    "we get\n",
    "\n",
    "$$ \\frac{y_{n+1}-y_n}{\\Delta t}   \\simeq  \\frac{\\mathrm{d} y}{\\mathrm{d}t}\\left( t + \\frac{\\Delta t}{2}\\right) = y \\left( t + \\frac{\\Delta t}{2}\\right) \\simeq y(t) + \\frac{\\Delta t}{2}  \\frac{\\mathrm{d} y}{\\mathrm{d}t}(t) = y(t) + \\frac{\\Delta t}{2} y(t) = y_n +\\frac{\\Delta t}{2} y_n \\Longrightarrow \\boxed{y_{n+1} \\simeq y_n \\left(1+ \\Delta t + \\frac{(\\Delta t)^2}{2} \\right)} $$\n",
    "\n",
    "Insert new cells below to answer the following questions.\n",
    "\n",
    "1. Define a function `euler_step(Y_old,dt)` returning y<sub>n+1</sub> given y<sub>n</sub> (`Y_old`) and ∆t (`dt`) with the Euler method\n",
    "2. Similarly, define `mp_step(Y_old,dt)` associated with the explicit midpoint method\n",
    "3. Write a function `euler(dt,t_max)` that returns two arrays filled with the values of t<sub>n</sub> and y<sub>n</sub> computed with the Euler method\n",
    "4. Similarly, define `mp(dt,t_max)`\n",
    "5. On a same graph, plot the exact solution of the ode and the numerical estimates based on the Euler and explicit midpoint methods for ∆t=0.25\n",
    "6. We investigate the numerical error at the end of the simulation, \n",
    "$\\varepsilon = \\vert  y(t_\\mathrm{max}) - e^{t_\\mathrm{max}} \\vert.$\n",
    "   Compute this quantity for both methods and for ∆t ∈ [10<sup>-3</sup>,10<sup>-2</sup>,10<sup>-1</sup>], then plot them versus ∆t on a single log-log graph.\n",
    "7. Show that one of these errors scales as ∆t, whereas the other scales as ∆t<sup>2</sup>. \n"
   ]
  },
  {
   "cell_type": "markdown",
   "metadata": {},
   "source": [
    "### Second test: the Euler method in mechanics\n",
    "\n",
    "Create a new Jupyter Notebook and save it as *firstname_lastname_TEST2.ipynb*. In this notebook, write a title and  answer the following questions.\n",
    "\n",
    "**This .ipynb file will have to be uploaded on Moodle by Sunday, October 2 2022 at 8:00pm**\n",
    "\n",
    "**It will be rated out of 10 (this course unit being rated out of 100)**\n",
    "\n",
    "We consider the angle θ(t) of a pendulum subject to the following dynamics\n",
    "\n",
    "$$\\frac{\\mathrm{d}^2 \\theta}{\\mathrm{d}t^2} + \\omega_0^2 \\sin(\\theta) = 0, ~~~~ \\theta(0) = \\theta_0, ~~~~ \\frac{\\mathrm{d} \\theta}{\\mathrm{d}t}(0)=0.  $$\n",
    "\n",
    "We want to numerically compute the solution of this second order differential equation with the Euler method, but this method deals with *first order* differential equations only. Thus, we turn the previous ode to a first order one by introducing the angular velocity Ω(t) as a new variable,\n",
    "\n",
    "$$ \\frac{\\mathrm{d} \\Omega}{\\mathrm{d}t} + \\omega_0^2\\sin (\\theta)=0, ~~~~~~~~  \\Omega(t)=\\frac{\\mathrm{d} \\theta}{\\mathrm{d}t}, ~~~\\theta(0) = \\theta_0, ~~~~ \\Omega(0)=0.$$\n",
    "\n",
    "\n",
    "1. In a Markdown cell, write down θ<sub>n+1</sub> and Ω<sub>n+1</sub> as a function of θ<sub>n</sub>, Ω<sub>n</sub>, ∆t and ω<sub>0</sub>.\n",
    "\n",
    "2. Write a function `euler_step(TH_old, OM_old, dt, omega0)` returning θ<sub>n+1</sub> and Ω<sub>n+1</sub> given θ<sub>n</sub>, Ω<sub>n</sub>, ∆t and ω<sub>0</sub>.\n",
    "\n",
    "3.  Write a function `euler(TH_0, omega0, dt, t_max)` that returns three arrays filled with the values of t<sub>n</sub>, θ<sub>n</sub> and Ω<sub>n</sub> computed with the Euler method, given θ<sub>0</sub>, ω<sub>0</sub>, ∆t and t<sub>max</sub>.\n",
    "\n",
    "4. For θ<sub>0</sub>=0.1, ω<sub>0</sub>=1, ∆t=0.1 and t<sub>max</sub>=100, plot θ(t) computed with the Euler method as a function of t. Add suitable axes name, legend, and title. What do you observe ? Does this change if ∆t is set to 0.01 ? For this problem, the Euler method is found to be *unconditionally unstable*.\n",
    "\n",
    "5. We now turn to the explicit midpoint method, whose numerical scheme is given by\n",
    "$$\\theta_{n+1} = \\theta_n + \\Delta t \\Omega_n - \\frac{(\\omega_0 \\Delta t)^2}{2} \\sin(\\theta_n),~~~~~~~ \\Omega_{n+1} = \\Omega_n - \\omega_0^2 \\Delta t \\sin \\left( \\theta_n + \\frac{\\Delta t \\Omega_n}{2}\\right).$$\n",
    "\n",
    "   Similarly, define `mp_step(TH_old, OM_old, dt, omega0)` and `mp(TH_0, omega0, dt, t_max)`, then redo the plots of question 4 with this new scheme: what do you observe ?\n",
    "5. We investigate the frequency of θ(t) computed with the midpoint method, θ<sub>0</sub>=.1, ω<sub>0</sub>=1, ∆t=0.1 and t<sub>max</sub>=100.\n",
    "\n",
    "    1. Import the scipy library using `import scipy.signal as spsig` then compute the power spectral density with `spsig.welch(x,fs, nperseg=len(x))` [(read the Scipy documentation for this function to know what should x and fs be given by)](https://docs.scipy.org/doc/scipy-0.14.0/reference/generated/scipy.signal.welch.html)\n",
    "    2. Plot the power spectral density for frequencies between zero and 0.2Hz with circlular markers.\n",
    "    3. How would you estimate the frequency f(θ<sub>0</sub>) of the signal ? and the uncertainty df(θ<sub>0</sub>) on that measure ?\n",
    "6. \n",
    "    1. Extract from this figure f(θ<sub>0</sub>) and df(θ<sub>0</sub>).\n",
    "    *(Hint : you may use the functions `np.max` and `np.argmax`)*\n",
    "    2. Plot f(θ<sub>0</sub>) for twenty values θ<sub>0</sub> between 0.1 and 3. with error bars (use `plt.errorbar`). Add to this graph the theoretical prediction for small but finite θ<sub>0</sub>, \n",
    "    $$f(\\theta_0) = \\frac{\\omega_0}{2\\pi}\\left( 1 - \\frac{\\theta_0^2}{16}\\right) $$"
   ]
  },
  {
   "cell_type": "code",
   "execution_count": null,
   "metadata": {},
   "outputs": [],
   "source": []
  }
 ],
 "metadata": {
  "kernelspec": {
   "display_name": "Python 3 (ipykernel)",
   "language": "python",
   "name": "python3"
  },
  "language_info": {
   "codemirror_mode": {
    "name": "ipython",
    "version": 3
   },
   "file_extension": ".py",
   "mimetype": "text/x-python",
   "name": "python",
   "nbconvert_exporter": "python",
   "pygments_lexer": "ipython3",
   "version": "3.9.12"
  }
 },
 "nbformat": 4,
 "nbformat_minor": 2
}
