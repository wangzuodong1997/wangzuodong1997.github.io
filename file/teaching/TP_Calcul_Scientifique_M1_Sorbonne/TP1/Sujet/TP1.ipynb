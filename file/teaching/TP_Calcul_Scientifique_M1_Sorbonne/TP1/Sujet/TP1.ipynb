{
 "cells": [
  {
   "cell_type": "markdown",
   "metadata": {},
   "source": [
    "# An introduction to Jupyter Notebooks\n",
    "\n",
    "#### First practical work, Monday,  September 19, 2022\n",
    "In this first practical work, we will go through the very basics of scientific computing with Jupyter Notebooks, namely how to use Markdown and code cells and how to plot data. By the end of this session, you should be able to create a notebook, generate a plot and introduce it with some properly formatted text.\n",
    "\n",
    "### Exercise 1: getting used to Markdown cells\n",
    "\n",
    "Text can be added to Jupyter Notebooks using Markdown cells such as this one.\n",
    "\n",
    "1. Edit this cell to remove this first item: double-click on it, edit the text then click on `Run` (`Exécuter` in french)\n",
    "1. Add a new cell below by using the `Insert` menu (`Insérer` in french)\n",
    "2. Change the cell type of this new cell to Markdown by using the `Cell` menu (`Cellule`)\n",
    "3. Enter your name in *italic* or **bold** by surrounding it with a single or double * respectively\n",
    "4. Run this new cell"
   ]
  },
  {
   "cell_type": "markdown",
   "metadata": {},
   "source": [
    "**bold** - *Italic*"
   ]
  },
  {
   "cell_type": "markdown",
   "metadata": {},
   "source": [
    "$\\LaTeX$ equations can also be written down in markdown cells both inlined (e.g., $\\cos(\\pi)=-1$) and on their own line,\n",
    "\n",
    "$$\\int_0^\\pi \\sin^2(x) \\mathrm{d}x = \\frac{\\pi}{2}.$$\n",
    "\n",
    "6. Fill in the following text with the right equations\n",
    "\n",
    "*One of the simplest example of harmonic oscillator is the spring/mass system sketched below.*\n",
    "\n",
    "<img src=\"add_files/TP1_1.png\"  width=\"300\" />\n",
    "\n",
    "*Consider a mass m and denote its displacement with respect to the equilibrium position by x(t). A spring of stiffness k and rest length ℓ<sub>0</sub>  develops a restoring force along the x-direction. The equation of motion therefore reads*\n",
    "\n",
    "$$?=?$$ \n",
    "\n",
    "*and the resulting motion is periodic, of angular frequency* $\\omega =  ??$\n",
    "\n"
   ]
  },
  {
   "cell_type": "markdown",
   "metadata": {},
   "source": [
    "### Exercise 2: introducing code cells\n",
    "\n",
    "The cell below is a code cell. Similar to Markown cells, they must be created, edited then run.\n",
    "1. Run the cell below to print the result of 10+2\n",
    "2. Edit it to compute 10<sup>2</sup>+2<sup>3</sup> instead\n",
    "3. Insert a new cell and print the value of `c` to check that it is actually stored in memory"
   ]
  },
  {
   "cell_type": "code",
   "execution_count": null,
   "metadata": {},
   "outputs": [],
   "source": []
  },
  {
   "cell_type": "markdown",
   "metadata": {},
   "source": [
    "You are now all set to create you own code, but first import the NumPy and MatPlotLib librairies by running the cell below."
   ]
  },
  {
   "cell_type": "code",
   "execution_count": null,
   "metadata": {},
   "outputs": [],
   "source": []
  },
  {
   "cell_type": "markdown",
   "metadata": {},
   "source": [
    "### Exercise 3: a first plot\n",
    "\n",
    "1. Create an array `Y` of size 10 filled with zeros, these zeros being set as integers, using `np.zeros`. Then, change the fifth value to 3 and print `Y` [(discover how to use the np.zeros function here)](https://docs.scipy.org/doc/numpy-1.9.3/reference/generated/numpy.zeros.html)\n",
    "2. Create an array `X` with values ranging from 0 to 9 using `np.arange` then print it [(the numpy function arange is introduced here)](https://numpy.org/doc/stable/reference/generated/numpy.arange.html)\n",
    "3. Plot `Y` versus `X` with `plt.plot` followed by `plt.show()` \n",
    "4. Redo this plot with red circle markers [(have a look at the documentation)](https://matplotlib.org/3.1.1/api/_as_gen/matplotlib.pyplot.plot.html)\n",
    "5. Add a title and labels to your graph (`plt.title`, `plt.xlabel`, `plt.ylabel`)"
   ]
  },
  {
   "cell_type": "code",
   "execution_count": null,
   "metadata": {},
   "outputs": [],
   "source": []
  },
  {
   "cell_type": "markdown",
   "metadata": {},
   "source": [
    "### Exercise 4: a more involved plot\n",
    "\n",
    "We want to generate the following plot :\n",
    "<img src=\"add_files/TP1_2.png\"  width=\"500\" />\n",
    "\n",
    "\n",
    "1. Create a 1D array `x`  with 100 evenly spaced numbers between 0 and $\\pi$ (have a look at the function `np.linspace`, `np.pi` being the constant $\\pi$)\n",
    "2. Define an array `y1=np.sin(x)`. Similarly define `y2`, `y3` and `y4` by\n",
    "$$ y_2 =x,~~~~~ y_3 = x - \\frac{x^3}{3!},~~~~~ y_4 =  x - \\frac{x^3}{3!} + \\frac{x^5}{5!}$$\n",
    "3. Plot these four arrays versus `x` with the right colors, linetypes and labels for the legend\n",
    "4. Add the legend with `plt.legend()`\n",
    "5. Set axis limits, add the title and axis labels\n",
    "6. You should get the same plot as above! Try to save it on your computer with the command `plt.savefig(\"My_plot.png\",dpi=300)` just before `plt.show()`."
   ]
  },
  {
   "cell_type": "code",
   "execution_count": null,
   "metadata": {},
   "outputs": [],
   "source": []
  },
  {
   "cell_type": "markdown",
   "metadata": {},
   "source": [
    "### Exercise 5: functions in Python\n",
    "\n",
    "We want to use Python to compute the first ninety [Fibonacci numbers](https://en.wikipedia.org/wiki/Fibonacci_number).\n",
    "\n",
    "1. Create a function `next_fib_nb(X,Y)` returning the next Fibonacci number `X+Y` given the last two terms of this sequence `X` and `Y`.\n",
    "\n",
    "2. Define an array `Fib_seq` filled with zeros (set as integers) of size `N`. Thereafter, set `N` to ninety.\n",
    "*Hint : If you get negative integers, try setting integers with np.int64 instead of int*\n",
    "\n",
    "3. Fill this array with the Fibonacci numbers and check that the ninetieth Fibonacci number is 1779979416004714189"
   ]
  },
  {
   "cell_type": "code",
   "execution_count": null,
   "metadata": {},
   "outputs": [],
   "source": []
  },
  {
   "cell_type": "markdown",
   "metadata": {},
   "source": [
    "### First test: your turn now\n",
    "\n",
    "1. Create a new Jupyter Notebook and save it as *firstname_lastname_TEST1.ipynb*.\n",
    "2. In this notebook, write a title and introduce the Fibonacci numbers $\\mathcal{F}_n$ in a few lines with Markdown cells and $\\LaTeX$ equations.\n",
    "3. Compute the first forty terms of this sequence $\\lbrace \\mathcal{F}_n\\rbrace_{n=1..40}$ and plot the ratio of consecutive Fibonacci numbers $\\lbrace \\phi_n = \\mathcal{F}_{n+1}/\\mathcal{F}_{n}\\rbrace_{n=1..39}$ as a function of $n$. This quantity converges to the golden ratio $\\varphi$: evidence this with a graph.\n",
    "4. Plot the difference $\\lbrace \\vert \\phi_n - \\varphi \\vert \\rbrace_{n=1..39}$ as a function of $n$ [with a logarithmic scale on the vertical axis](https://matplotlib.org/3.1.1/gallery/pyplots/pyplot_scales.html). Add to this graph the sequence $\\lbrace e^{-n} \\rbrace_{n=1..39}$ and comment.\n",
    "\n",
    "**This .ipynb file will have to be uploaded on Moodle by Sunday, September 25 2022 at 8:00pm**\n",
    "\n",
    "**It will be rated out of 10 (this course unit being rated out of 100)**"
   ]
  },
  {
   "cell_type": "markdown",
   "metadata": {},
   "source": [
    "\n",
    "La suite de Fibonacci $F_n$ est définie par $F_0=0$, $F_1=1$ et $F_{n\\geqslant 2} = F_{n-1} + F_{n-2}$. On montre $\\underset{n \\rightarrow \\infty}{\\mathrm{lim}} \\left( \\frac{F_{n+1}}{F_n}\\right) = \\varphi$ avec $\\varphi =\\frac{1+\\sqrt{5}}{2}$ le nombre d'or."
   ]
  },
  {
   "cell_type": "code",
   "execution_count": null,
   "metadata": {},
   "outputs": [],
   "source": []
  },
  {
   "cell_type": "code",
   "execution_count": null,
   "metadata": {},
   "outputs": [],
   "source": []
  }
 ],
 "metadata": {
  "kernelspec": {
   "display_name": "Python 3 (ipykernel)",
   "language": "python",
   "name": "python3"
  },
  "language_info": {
   "codemirror_mode": {
    "name": "ipython",
    "version": 3
   },
   "file_extension": ".py",
   "mimetype": "text/x-python",
   "name": "python",
   "nbconvert_exporter": "python",
   "pygments_lexer": "ipython3",
   "version": "3.9.12"
  }
 },
 "nbformat": 4,
 "nbformat_minor": 2
}
