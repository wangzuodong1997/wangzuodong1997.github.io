{
 "cells": [
  {
   "cell_type": "markdown",
   "metadata": {},
   "source": [
    "# Feuille de travaux pratiques. Premières applications du calcul scientifique"
   ]
  },
  {
   "cell_type": "code",
   "execution_count": null,
   "metadata": {},
   "outputs": [],
   "source": [
    "# chargement des bibliothèques\n",
    "import numpy as np"
   ]
  },
  {
   "cell_type": "markdown",
   "metadata": {},
   "source": [
    "## Exercice 1 (calcul d'une valeur approchée de $\\pi$ par la méthode de Monte-Carlo)\n",
    "\n",
    "Pour obtenir une valeur approchée du nombre $\\pi$ par la [méthode de Monte-Carlo](https://fr.wikipedia.org/wiki/M%C3%A9thode_de_Monte-Carlo), on tire « au hasard », dans un carré de côté de longueur égale à $2$, des points de coordonnées $(x,y)$ et l'on vérifie s'ils appartiennent ou non au disque de rayon égal à $1$ ayant même centre que le carré. Les points étant tirés dans l'ensemble du carré avec la même loi de probabilité, le rapport entre le nombre de points tirés dans le disque et le nombre de points tirés au total tend, lorsque le nombre de tirages tend vers l'infini, vers le rapport des surfaces du disque et du carré, soit $\\frac{\\pi}{4}$, en vertu de la [loi des grands nombres](https://fr.wikipedia.org/wiki/Loi_des_grands_nombres).\n",
    "\n",
    "**1.** Au moyen de la commande `random.rand` de NumPy, qui génère une suite de nombres réels jouant le rôle d'une réalisation d'une suite de variables aléatoires continues, indépendantes et identiquement distribuées selon la [loi uniforme](https://fr.wikipedia.org/wiki/Loi_uniforme_continue) sur l'intervalle $[0,1]$, écrire une fonction prenant comme argument le nombre de tirages à réaliser et renvoyant la valeur approchée de $\\pi$ obtenue par la méthode de Monte-Carlo décrite ci-dessus (pour simplifier, on pourra se restreindre au quart de carré contenu dans l'orthant positif de $\\mathbb{R}^2$)."
   ]
  },
  {
   "cell_type": "code",
   "execution_count": null,
   "metadata": {
    "scrolled": true
   },
   "outputs": [],
   "source": []
  },
  {
   "cell_type": "markdown",
   "metadata": {},
   "source": [
    "**2.** Donner un ordre du nombre de tirages nécessaires pour obtenir plus de deux décimales exactes de $\\pi$. Que dire de l'efficacité de cette méthode ?"
   ]
  },
  {
   "cell_type": "markdown",
   "metadata": {},
   "source": []
  },
  {
   "cell_type": "markdown",
   "metadata": {},
   "source": [
    "## Exercice 2 (procédé d'orthonormalisation de Gram-Schmidt)\n",
    "\n",
    "On rappelle que, partant d'une famille $\\mathcal{B}=\\left\\{u_1,\\dots,u_m\\right\\}$ de vecteurs linéairement indépendants de $\\mathbb{R}^n$, avec $m$ et $n$ des entiers\n",
    "tels que $2\\leq m\\leq n$, le [procédé d'orthonormalisation de Gram-Schmidt](https://en.wikipedia.org/wiki/Gram%E2%80%93Schmidt_process) permet de construire\n",
    "une famille $\\mathcal{B}'=\\left\\{q_1,\\dots,q_m\\right\\}$ de vecteurs orthonormaux donnés par\n",
    "$$\n",
    "q_1=\\frac{u_1}{\\|u_1\\|_2},\n",
    "$$\n",
    "$$\n",
    "\\widetilde{q}_{k+1}=u_{k+1}-\\sum_{i=1}^k\\left<u_{k+1},q_i\\right>q_i,\\ q_{k+1}=\\frac{\\widetilde{q}_{k+1}}{\\|\\widetilde{q}_{k+1}\\|_2},\\ k=1,\\dots,m-1,\n",
    "$$\n",
    "où $\\|\\cdot\\|_2$ et $\\left<\\cdot\\,,\\cdot\\right>$ désignent respectivement la norme euclidienne et le produit scalaire euclidien sur $\\mathbb{R}^n$.\n",
    "\n",
    "**1.** Écrire une fonction nommée `gramschmidt`, prenant comme paramètre d'entrée un tableau ayant pour colonnes les $m$ vecteurs de la famille $\\mathcal{B}$ et renvoyant un tableau ayant pour colonnes les $m$ vecteurs de la famille $\\mathcal{B}'$, obtenue en appliquant à $\\mathcal{B}$ le procédé d'orthonormalisation de Gram-Schmidt. Penser à inclure un mécanisme vérifiant que la famille $\\mathcal{B}$ fournie lors de l'appel de la fonction est libre."
   ]
  },
  {
   "cell_type": "code",
   "execution_count": null,
   "metadata": {},
   "outputs": [],
   "source": []
  },
  {
   "cell_type": "markdown",
   "metadata": {},
   "source": [
    "**2.** On pose $\\varepsilon=10^{-8}$. Tester la fonction `gramschmidt` avec la famille\n",
    "$$\n",
    "\\mathcal{B}=\\left\\{\\begin{pmatrix}1\\\\\\varepsilon\\\\0\\\\0\\end{pmatrix},\\begin{pmatrix}1\\\\0\\\\\\varepsilon\\\\0\\end{pmatrix},\\begin{pmatrix}1\\\\0\\\\0\\\\\\varepsilon\\end{pmatrix}\\right\\},\n",
    "$$\n",
    "puis vérifier que les vecteurs obtenus sont bien orthogonaux deux à deux. Que constate-t-on ?"
   ]
  },
  {
   "cell_type": "code",
   "execution_count": null,
   "metadata": {},
   "outputs": [],
   "source": []
  },
  {
   "cell_type": "markdown",
   "metadata": {},
   "source": []
  },
  {
   "cell_type": "markdown",
   "metadata": {},
   "source": [
    "**3.** Pour pallier le défaut d'orthogonalité des vecteurs de la famille $\\mathcal{B}'$ (qui sont dûs à l'accumulation des erreurs d'arrondi, les calculs étant faits en arithmétique à virgule flottante), il faut utiliser une version (numériquement) plus stable du procédé. Celle-ci consiste à opérer de la manière suivante :\n",
    "$$\n",
    "q_1=\\frac{u_1}{\\|u_1\\|_2},\n",
    "$$\n",
    "$$\n",
    "q^{(0)}_{k+1}=u_{k+1},\\ q^{(i)}_{k+1}=q^{(i-1)}_{k+1}-\\left<q^{(i-1)}_{k+1},q_i\\right>q_i,\\ i=1,\\dots,k,\\ q_{k+1}=\\frac{q^{(k)}_{k+1}}{\\|q^{(k)}_{k+1}\\|_2},\\ k=1,\\dots,m-1.\n",
    "$$\n",
    "Mettre en &oelig;uvre, en modifiant la fonction déjà existante, cette variante pour obtenir une nouvelle fonction qu'on nommera `modgramschmidt` (pour procédé de Gram-Schmidt *modifié*).\n",
    "Effectuer ensuite l'orthonormalisation de la famille $\\mathcal{B}$ donnée dans la question précédente."
   ]
  },
  {
   "cell_type": "code",
   "execution_count": null,
   "metadata": {},
   "outputs": [],
   "source": []
  },
  {
   "cell_type": "markdown",
   "metadata": {},
   "source": []
  },
  {
   "cell_type": "markdown",
   "metadata": {},
   "source": [
    "## Exercice 3 (applications linéaires entre espaces de polynômes)\n",
    "\n",
    "Soit $n$ un entier naturel. On note $\\mathbb{R}_n[X]$ l'espace vectoriel des polynômes à coefficients réels de degré inférieur ou égal à $n$.\n",
    "\n",
    "**1.** Pour $P$ et $Q$ deux éléments de $\\mathbb{R}_n[X]$, on note $R(P,Q)$ le reste de la division euclidienne de $P$ par $Q$. On considére l'application linéaire :\n",
    "$$\n",
    "\\begin{array}{rcccc}\n",
    "\\mathcal{R}&:&\\mathbb{R}_n[X]&\\rightarrow&\\mathbb{R}_n[X]\\\\\n",
    "&&P&\\mapsto&R(P,X^2).\n",
    "\\end{array}\n",
    "$$\n",
    "**(a)** Écrire une fonction prenant comme paramètre un entier $n$ et renvoyant la matrice $M_\\mathcal{R}$ de l'application $\\mathcal{R}$ dans la base canonique de $\\mathbb{R}_n[X]$."
   ]
  },
  {
   "cell_type": "code",
   "execution_count": null,
   "metadata": {},
   "outputs": [],
   "source": []
  },
  {
   "cell_type": "markdown",
   "metadata": {},
   "source": [
    "**(b)** À l'aide de cette fonction, calculer le reste de la division par $X^2$ pour les polynômes suivants :\n",
    "$$\n",
    "7\\,X^8+411\\,X^7-231\\,X^5+31\\,X^4+451\\,X^3-231\\,X-42,\n",
    "$$\n",
    "$$\n",
    "X^7+\\frac{5}{21}\\,X^5+0,432\\,X^4-22\\,X^3+51\\,X^2-\\frac{1}{39}\\,X+4,431.\n",
    "$$"
   ]
  },
  {
   "cell_type": "code",
   "execution_count": null,
   "metadata": {},
   "outputs": [],
   "source": []
  },
  {
   "cell_type": "markdown",
   "metadata": {},
   "source": [
    "**(c)** En utilisant la fonction `linalg.null_space` de SciPy, déterminer le noyau de l'application $\\mathcal{R}$ pour $n=6$, $7$ et $8$. Que constate-t-on ?"
   ]
  },
  {
   "cell_type": "code",
   "execution_count": null,
   "metadata": {},
   "outputs": [],
   "source": [
    "from scipy.linalg import null_space"
   ]
  },
  {
   "cell_type": "markdown",
   "metadata": {},
   "source": []
  },
  {
   "cell_type": "markdown",
   "metadata": {},
   "source": [
    "**2.** On considère à présent l'application linéaire dérivée :\n",
    "$$\n",
    "\\begin{array}{rcccc}\n",
    "\\mathcal{D}&:&\\mathbb{R}_n[X]&\\rightarrow&\\mathbb{R}_n[X]\\\\\n",
    "&&P&\\mapsto&P',\n",
    "\\end{array}\n",
    "$$\n",
    "associant à tout polynôme $P$ de $\\mathbb{R}_n[X]$ ayant pour coefficients $a_k$, $k=0,\\dots,n$, le polynôme $P'$ ayant pour fonction polynomiale $P'(x)=\\sum_{k=1}^nk\\,a_k\\,x^{k-1}$. Reprendre la question précédente avec $\\mathcal{D}$ en place de $\\mathcal{R}$."
   ]
  },
  {
   "cell_type": "code",
   "execution_count": null,
   "metadata": {},
   "outputs": [],
   "source": []
  },
  {
   "cell_type": "markdown",
   "metadata": {},
   "source": [
    "**3.** On considère enfin les deux applications composées $\\mathcal{D}\\circ\\mathcal{R}$ et $\\mathcal{R}\\circ\\mathcal{D}$. Que font-elles ? Sont-elles identiques ? Quel est leur lien avec les produits de matrices $M_\\mathcal{D}M_\\mathcal{R}$ et $M_\\mathcal{R}M_\\mathcal{D}$ ?"
   ]
  },
  {
   "cell_type": "markdown",
   "metadata": {},
   "source": []
  }
 ],
 "metadata": {
  "kernelspec": {
   "display_name": "Python 3",
   "language": "python",
   "name": "python3"
  },
  "language_info": {
   "codemirror_mode": {
    "name": "ipython",
    "version": 3
   },
   "file_extension": ".py",
   "mimetype": "text/x-python",
   "name": "python",
   "nbconvert_exporter": "python",
   "pygments_lexer": "ipython3",
   "version": "3.8.10"
  }
 },
 "nbformat": 4,
 "nbformat_minor": 2
}
