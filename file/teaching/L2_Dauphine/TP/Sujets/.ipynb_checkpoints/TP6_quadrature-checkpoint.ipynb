{
 "cells": [
  {
   "cell_type": "markdown",
   "metadata": {},
   "source": [
    "# Feuille de travaux pratiques. Formules de quadrature"
   ]
  },
  {
   "cell_type": "code",
   "execution_count": null,
   "metadata": {},
   "outputs": [],
   "source": [
    "# chargement des bibliothèques\n",
    "import numpy as np\n",
    "\n",
    "%matplotlib inline\n",
    "import matplotlib.pyplot as plt"
   ]
  },
  {
   "cell_type": "markdown",
   "metadata": {},
   "source": [
    "## Exercice 1 (ordre de convergence de formules de quadrature composées)\n",
    "Soit $f$ une fonction réelle continue sur un intervalle $[a,b]$. Le but de cet exercice est de mesurer l'efficacité de [formules de quadrature de Newton-Cotes](https://fr.wikipedia.org/wiki/Formule_de_Newton-Cotes) composées classiques pour l'approximation de l'intégrale définie\n",
    "$$\n",
    "I(f)=\\int_a^b f(x)\\,\\mathrm{d}x,\n",
    "$$\n",
    "pour différents choix fonction. En particulier, on souhaite observer l'influence de la régularité de la fonction sur la précision des formules.\n",
    "\n",
    "**1.** Écrire trois fonctions, ayant chacune pour paramètres d'entrée la fonction $f$, les bornes $a$ et $b$ de l'intervalle, et un nombre entier non nul $m$ de subdivisions de l'intervalle, calculant une approximation $I_{m,n}(f)$ de $I(f)$ respectivement par les formules de quadrature de la [règle du point milieu](http://fr.wikipedia.org/wiki/M%C3%A9thode_du_point_m%C3%A9dian) (formule ouverte, $n=0$), de la [règle du trapèze](http://fr.wikipedia.org/wiki/M%C3%A9thode_des_trap%C3%A8zes) (formule fermée, $n=1$) et de la [règle de Simpson](http://fr.wikipedia.org/wiki/M%C3%A9thode_de_Simpson) (formule fermée, $n=2$) composées."
   ]
  },
  {
   "cell_type": "code",
   "execution_count": null,
   "metadata": {},
   "outputs": [],
   "source": []
  },
  {
   "cell_type": "markdown",
   "metadata": {},
   "source": [
    "**2.** Au moyen de la commande `semilogy`, tracer le graphe des courbes de l'erreur $\\vert I(f)-I_{m,n}(f)\\vert$ de chacune de ces trois formules en fonction du nombre de sous-intervalles pour $f(x)=e^x$, $a=0$ et $b=1$. Commenter les résultats."
   ]
  },
  {
   "cell_type": "code",
   "execution_count": null,
   "metadata": {},
   "outputs": [],
   "source": []
  },
  {
   "cell_type": "markdown",
   "metadata": {},
   "source": []
  },
  {
   "cell_type": "markdown",
   "metadata": {},
   "source": [
    "**3.** Reprendre la question précédente pour $f(x)=\\vert 3\\,x^4-1\\vert$, $a=0$ et $b=1$. Que constate-t-on? Comment procéder pour retrouver les ordres de convergence théoriques des formules dans ce cas?"
   ]
  },
  {
   "cell_type": "code",
   "execution_count": null,
   "metadata": {},
   "outputs": [],
   "source": []
  },
  {
   "cell_type": "markdown",
   "metadata": {},
   "source": []
  },
  {
   "cell_type": "markdown",
   "metadata": {},
   "source": [
    "## Exercice bonus (méthode de Romberg)\n",
    "\n",
    "On considère l'utilisation de la règle du trapèze composée associée à une subdivision dyadique de l'intervalle $[a,b]$ pour le calcul de l'intégrale $I(f)$ de\n",
    "l'exercice précédent. En supposant la fonction $f$ suffisamment régulière et en posant $H=\\frac{b-a}{2^k}$, avec $k$ un entier naturel.\n",
    "\n",
    "On peut montrer à partir de la [formule d'Euler-Maclaurin](https://fr.wikipedia.org/wiki/Formule_d%27Euler-Maclaurin) que l'erreur vérifie\n",
    "$$\n",
    "I(f)-I_{2^k,1}(f)=c_1\\,H^2+c_2\\,H^4+\\dots,\n",
    "$$\n",
    "où les coefficients $c_k$ ne dépendent pas de $H$ et où seules les puissances paires apparaissent dans le développement. On peut exploiter cette propriété pour supprimer un à un les termes du développement, et ainsi obtenir de meilleures approximations de l'intégrale $I(f)$.\n",
    "\n",
    "Posons $R_{k,0}=I_{2^k,1}(f)$. À partir d'une estimation de l'intégrale pour une subdivision de taille $\\frac{H}{2}$, notée $R_{k+1,0}(=I_{2^{k+1},1}(f))$, l'utilisation du [procédé d'extrapolation de Richardson](https://fr.wikipedia.org/wiki/Extrapolation_de_Richardson) permet d'éliminer le premier terme du développement en considérant l'approximation fournie par la quantité\n",
    "$$\n",
    "R_{k+1,1}=R_{k+1,0}+\\frac{1}{3}(R_{k+1,0}-R_{k,0})=\\frac{1}{3}(4\\,R_{k+1,0}-R_{k,0}),\n",
    "$$\n",
    "conduisant ainsi à une erreur d'ordre quatre en $H$.\n",
    "\n",
    "Le procédé appelé [méthode de Romberg](https://fr.wikipedia.org/wiki/M%C3%A9thode_de_Romberg) pour l'évaluation approchée de $I(f)$ consiste en l'application répétée de cette opération à partir de la valeur $k=0$.\n",
    "\n",
    "**1.** Écrire une fonction `romberg`, ayant pour arguments d'entrée une fonction $f$, les bornes $a$ et $b$ de l'intervalle, un nombre d'extrapolations maximal $N$ et une tolérance $\\varepsilon$, renvoyant la valeur de l'approximation $R_{k,k}$ telle que $|R_{k,k}-R_{k-1,k-1}|\\leq\\varepsilon$, avec $0\\leq k\\leq N$, ou bien $k=N$. Pour cela, on construira un tableau contenant les valeurs extrapolées $R_{k,m}$, $0\\leq m\\leq k\\leq N$, dont les éléments satisfont la relation de récurrence\n",
    "$$\n",
    "R_{k,m}=R_{k,m-1}+\\frac{1}{4^m-1}\\left(R_{k,m-1}-R_{k-1,m-1}\\right),\\ 1\\leq m\\leq k\\leq N.\n",
    "$$\n",
    "Les approximations successives de $R_{k,k}$ construites par la méthode de Romberg se trouvent alors sur la diagonale du tableau et les éléments de la première colonne du tableau sont tels que $R_{k,0}=I_{2^k,1}(f)$, $k=0,\\dots,N$."
   ]
  },
  {
   "cell_type": "code",
   "execution_count": null,
   "metadata": {},
   "outputs": [],
   "source": []
  },
  {
   "cell_type": "markdown",
   "metadata": {},
   "source": [
    "**2.** Utiliser cette fonction pour calculer des approximations de l'intégrale $I(f)$ dans les cas suivants :\n",
    "* $f(x)=x^3$, $a=0$, $b=1$,\n",
    "* $f(x)=\\frac{1}{x}$, $a=1$, $b=2$,\n",
    "* $f(x)=\\sin(x)$, $a=0$, $b=\\pi$,\n",
    "* $f(x)=x\\sin(\\sqrt{x})$, $a=0$, $b=3$,\n",
    "* $f(x)=e^{-x^2}$, $a=0$, $b=1$."
   ]
  },
  {
   "cell_type": "code",
   "execution_count": null,
   "metadata": {},
   "outputs": [],
   "source": []
  }
 ],
 "metadata": {
  "kernelspec": {
   "display_name": "Python 3 (ipykernel)",
   "language": "python",
   "name": "python3"
  },
  "language_info": {
   "codemirror_mode": {
    "name": "ipython",
    "version": 3
   },
   "file_extension": ".py",
   "mimetype": "text/x-python",
   "name": "python",
   "nbconvert_exporter": "python",
   "pygments_lexer": "ipython3",
   "version": "3.9.12"
  }
 },
 "nbformat": 4,
 "nbformat_minor": 1
}
