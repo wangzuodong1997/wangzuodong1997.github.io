{
 "cells": [
  {
   "cell_type": "markdown",
   "metadata": {},
   "source": [
    "# Feuille de travaux pratiques. Boucles et récursivité"
   ]
  },
  {
   "cell_type": "code",
   "execution_count": null,
   "metadata": {},
   "outputs": [],
   "source": [
    "# chargement des bibliothèques\n",
    "import numpy as np\n",
    "\n",
    "%matplotlib inline\n",
    "import matplotlib.pyplot as plt"
   ]
  },
  {
   "cell_type": "markdown",
   "metadata": {},
   "source": [
    "## Exercice 1 (suite de Fibonacci)\n",
    "\n",
    "**1.** Écrire une boucle calculant les valeurs des vingt premiers termes de la [suite de Fibonacci](https://fr.wikipedia.org/wiki/Suite_de_Fibonacci), définie par\n",
    "$$\n",
    "u^{(0)}=0,\\ u^{(1)}=1\\text{ et},\\ \\forall k\\in\\mathbb{N},\\ u^{(k+2)}=u^{(k+1)}+u^{(k)},\n",
    "$$\n",
    "et conservant ces valeurs dans un tableau."
   ]
  },
  {
   "cell_type": "code",
   "execution_count": null,
   "metadata": {},
   "outputs": [],
   "source": []
  },
  {
   "cell_type": "markdown",
   "metadata": {},
   "source": [
    "**2.** Écrire une boucle calculant les termes successifs de la suite de Fibonacci dont la valeur est inférieure ou égale à $50000$ et afficher le dernier de ces termes."
   ]
  },
  {
   "cell_type": "code",
   "execution_count": null,
   "metadata": {},
   "outputs": [],
   "source": []
  },
  {
   "cell_type": "markdown",
   "metadata": {},
   "source": [
    "**3.** Écrire enfin une fonction `fibonacci(n)` calculant de manière itérative $n$<sup>e</sup> terme de la suite de Fibonacci, sans toutefois conserver les valeurs de tous les termes de la suite."
   ]
  },
  {
   "cell_type": "code",
   "execution_count": null,
   "metadata": {},
   "outputs": [],
   "source": []
  },
  {
   "cell_type": "markdown",
   "metadata": {},
   "source": [
    "## Exercice 2 (suites adjacentes)\n",
    "\n",
    "On définit deux suites $(u^{(k)})_{k\\in\\mathbb{N}}$ et $(v^{(k)})_{k\\in\\mathbb{N}}$ par\n",
    "$$\n",
    "u^{(0)}=1,\\ v^{(0)}=2\\text{ et, }\\forall k\\in\\mathbb{N},\\\n",
    "u^{(k+1)}=\\frac{u^{(k)}+v^{(k)}}{2},\\ v^{(k+1)}=\\sqrt{u^{(k+1)}v^{(k)}}.\n",
    "$$\n",
    "On admet que ces suites sont adjacentes, de limite $\\dfrac{\\sqrt{27}}{\\pi}$.\n",
    "\n",
    "**1.** Écrire une fonction ayant pour argument un entier $n$ et renvoyant l'approximation du nombre $\\pi$ obtenue à partir de la valeur de $v^{(n)}$."
   ]
  },
  {
   "cell_type": "code",
   "execution_count": null,
   "metadata": {},
   "outputs": [],
   "source": []
  },
  {
   "cell_type": "markdown",
   "metadata": {},
   "source": [
    "**2.** Écrire une fonction ayant pour argument un réel $\\varepsilon$ strictement positif et renvoyant l'approximation du nombre $\\pi$ obtenue à partir de la valeur de $v^{(n)}$, premier terme de la suite $(v^{(k)})_{k\\in\\mathbb{N}}$ à satisfaire la condition\n",
    "$$\n",
    "\\left\\vert\\frac{u^{(n)}-v^{(n)}}{u^{(n)}+v^{(n)}}\\right\\vert\\leq\\varepsilon.\n",
    "$$"
   ]
  },
  {
   "cell_type": "code",
   "execution_count": null,
   "metadata": {},
   "outputs": [],
   "source": []
  },
  {
   "cell_type": "markdown",
   "metadata": {},
   "source": [
    "## Exercice 3 (développements en série entière de $\\cos$ et $\\sin$)\n",
    "\n",
    "**1.** Écrire une fonction `cosn(n,x)`, prenant comme arguments un entier naturel non nul $n$ et un réel $x$, calculant une approximation de la valeur de la fonction cosinus en $x$ obtenue en ne conservant que les $n$ premiers termes du développement en série entière\n",
    "$$\n",
    "\\cos(x)=1-\\frac{x^2}{2!}+\\dots+(-1)^k\\frac{x^{2k}}{(2k)!}+\\dots\n",
    "$$\n",
    "Comparer l'erreur entre le résultat `cosn(n,x)` et la valeur exacte `cos(x)` pour différentes valeurs de $n$ et de $x$."
   ]
  },
  {
   "cell_type": "code",
   "execution_count": null,
   "metadata": {},
   "outputs": [],
   "source": []
  },
  {
   "cell_type": "markdown",
   "metadata": {},
   "source": [
    "**2.** Même question avec la fonction `sinn(n,x)` basée sur le développement en série entière de la fonction sinus\n",
    "$$\n",
    "\\sin(x)=x-\\frac{x^3}{3!}+\\dots+(-1)^k\\frac{x^{2k+1}}{(2k+1)!}+\\dots\n",
    "$$"
   ]
  },
  {
   "cell_type": "code",
   "execution_count": null,
   "metadata": {},
   "outputs": [],
   "source": []
  },
  {
   "cell_type": "markdown",
   "metadata": {},
   "source": [
    "## Exercice 4 (programmation récursive)\n",
    "\n",
    "En informatique, une fonction est dite *récursive* lorsqu'elle s'appelle elle-même. En pratique, une telle fonction aura toujours au moins une instruction conditionnelle, afin que, dans certains cas au moins, il n'y ait pas d'appel récursif (sans quoi la fonction s'appellerait indéfiniment jusqu'à la saturation de la pile, provoquant une interruption du programme). Le concept de fonction récursive est généralement opposé à celui de fonction itérative, qui s'exécute sans s'invoquer ou s'appeler explicitement.\n",
    "\n",
    "Bien que cette forme de programmation aboutisse à des programmes concis et proches des formulations mathématiques qui en sont à l'origine, il peut parfois être mal indiqué ou même catastrophique d'employer la récursivité (toute fonction récursive pouvant être remplacée par une fonction itérative), comme on le vérifiera à la troisième question du présent exercice.\n",
    "\n",
    "**1.** Écrire une fonction récursive `rfactorielle(n)` calculant $n!$."
   ]
  },
  {
   "cell_type": "code",
   "execution_count": null,
   "metadata": {},
   "outputs": [],
   "source": []
  },
  {
   "cell_type": "markdown",
   "metadata": {},
   "source": [
    "**2.** Écrire, en utilisant la fonction `remainder` de NumPy donnant le reste de la division euclidienne de deux entiers, une fonction récursive `rpgcd(a,b)` renvoyant le plus grand commun diviseur des entiers naturels $a$ et $b$ calculé par l'[algorithme d'Euclide](https://fr.wikipedia.org/wiki/Algorithme_d%27Euclide)."
   ]
  },
  {
   "cell_type": "code",
   "execution_count": null,
   "metadata": {},
   "outputs": [],
   "source": []
  },
  {
   "cell_type": "markdown",
   "metadata": {},
   "source": [
    "**3.** Écrire une fonction récursive `rfibonacci(n)` calculant le $n$<sup>e</sup> terme de la suite de Fibonacci et comparer son temps d'exécution avec celui de la fonction `fibonacci(n)` de l'exercice 1."
   ]
  },
  {
   "cell_type": "code",
   "execution_count": null,
   "metadata": {},
   "outputs": [],
   "source": []
  },
  {
   "cell_type": "markdown",
   "metadata": {},
   "source": [
    "**4.** Écrire une fonction récursive `rcollatz(n)` renvoyant la valeur booléenne `True` si la [conjecture de Collatz](https://fr.wikipedia.org/wiki/Conjecture_de_Syracuse) est vérifiée pour l'entier naturel non nul $n$. On pourra utiliser la fonction `remainder` de NumPy."
   ]
  },
  {
   "cell_type": "code",
   "execution_count": null,
   "metadata": {},
   "outputs": [],
   "source": []
  },
  {
   "cell_type": "markdown",
   "metadata": {},
   "source": [
    "**5.** Écrire une fonction récursive `rcosn(n,x)` calculant l'approximation de $\\cos(x)$ vue dans l'exercice 3 et utilisant la relation existant entre les termes de la série, c'est-à-dire\n",
    "$$\n",
    "u^{(0)}=1\\mbox{ et},\\ \\forall k\\in\\mathbb{N}^*,\\ u^{(k)}=-\\frac{x^2}{2k(2k-1)}\\,u^{(k-1)}.\n",
    "$$"
   ]
  },
  {
   "cell_type": "code",
   "execution_count": null,
   "metadata": {},
   "outputs": [],
   "source": []
  },
  {
   "cell_type": "markdown",
   "metadata": {},
   "source": [
    "## Exercice bonus (procédé $\\Delta^2$ d'Aitken)\n",
    "\n",
    "On peut obtenir une valeur approchée du réel $\\pi$ en sommant un nombre fini de termes de la [série de Madhava-Gregory-Leibniz](https://en.wikipedia.org/wiki/Leibniz_formula_for_%CF%80),\n",
    "$$\n",
    "\\sum_{n=0}^{+\\infty}\\frac{(-1)^n}{2n+1}=\\frac{\\pi}{4}.\n",
    "$$\n",
    "La convergence de cette série est malheureusement lente et, pour l'accélérer, on se propose d'utiliser le [procédé $\\Delta^2$ d'Aitken](https://en.wikipedia.org/wiki/Aitken%27s_delta-squared_process). Cette technique consiste en la construction d'une suite $(u^{(k)})_{k\\in\\mathbb{N}}$ définie par\n",
    "$$\n",
    "\\forall k\\in\\mathbb{N},\\ u^{(k)}=s^{(k)}-\\frac{\\left(s^{(k+1)}-s^{(k)}\\right)^2}{s^{(k)}-2\\,s^{(k+1)}+s^{(k+2)}},\\text{ avec},\\forall m\\in\\mathbb{N},\\ s^{(m)}=\\sum_{n=0}^m\\frac{(-1)^n}{2n+1},\n",
    "$$\n",
    "ayant même limite que la suite $(s^{(k)})_{k\\in\\mathbb{N}}$ des sommes partielles de la série de Madhava-Gregory-Leibniz et convergeant plus rapidement.\n",
    "\n",
    "**1.** Écrire une boucle calculant les termes de la suite $(s^{(k)})_{k\\in\\mathbb{N}}$ et s'arrêtant lorsque la condition $\\vert s^{(k)}-\\frac{\\pi}{4}\\vert\\leq\\varepsilon$ est vérifiée, avec $\\varepsilon$ un réel strictement positif fixé. En prenant $\\varepsilon=10^{-6}$, combien faut-il calculer de termes pour satisfaire le critère ? On mesurera le temps nécessaire au calcul de la série tronquée au moyen de la fonction `time.time` de Python."
   ]
  },
  {
   "cell_type": "code",
   "execution_count": null,
   "metadata": {},
   "outputs": [],
   "source": [
    "import time"
   ]
  },
  {
   "cell_type": "markdown",
   "metadata": {},
   "source": [
    "**2.** Modifier la boucle de façon à calculer les termes de la suite $(u^{(k)})_{k\\in\\mathbb{N}}$. Pour quelle valeur de l'entier $k$ a-t-on $\\vert u^{(k)}-\\frac{\\pi}{4}\\vert\\leq\\varepsilon$, avec $\\varepsilon=10^{-6}$ ?"
   ]
  },
  {
   "cell_type": "code",
   "execution_count": null,
   "metadata": {},
   "outputs": [],
   "source": []
  },
  {
   "cell_type": "markdown",
   "metadata": {},
   "source": [
    "**3.** Reprendre les questions précédentes avec $\\varepsilon=10^{-8}$."
   ]
  },
  {
   "cell_type": "code",
   "execution_count": null,
   "metadata": {},
   "outputs": [],
   "source": []
  }
 ],
 "metadata": {
  "kernelspec": {
   "display_name": "Python 3",
   "language": "python",
   "name": "python3"
  },
  "language_info": {
   "codemirror_mode": {
    "name": "ipython",
    "version": 3
   },
   "file_extension": ".py",
   "mimetype": "text/x-python",
   "name": "python",
   "nbconvert_exporter": "python",
   "pygments_lexer": "ipython3",
   "version": "3.8.10"
  }
 },
 "nbformat": 4,
 "nbformat_minor": 1
}
